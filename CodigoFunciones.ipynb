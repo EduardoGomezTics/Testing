{
 "cells": [
  {
   "cell_type": "code",
   "execution_count": 68,
   "id": "59de189f-8581-4534-b13a-83acc8a48967",
   "metadata": {},
   "outputs": [],
   "source": [
    "def frec_abs(datos_entrada):\n",
    "    '''\n",
    "    clases, fa_absoluta = frec_abs(datos_entrada)\n",
    "    Regresa las clases y frecuencias absolutas \n",
    "    de cada clase dada una lista de datos\n",
    "    \n",
    "    Ejemplo:\n",
    "    datos_entrada = [0, 1, 2, 0, 1, 3, 1, 3]\n",
    "    clases, fa_absoluta = frec_abs(datos_entrada)\n",
    "    >>> clases = [0, 1, 2, 3]\n",
    "    >>> fa_absoluta = [2, 3, 1, 2]\n",
    "    '''\n",
    "    clases, fa_absoluta = [], []\n",
    "    for elemento in datos_entrada:\n",
    "        if elemento not in clases:\n",
    "            clases.append(elemento)\n",
    "            fa_absoluta.append(1)\n",
    "        else:        \n",
    "            idx = clases.index(elemento)        \n",
    "            fa_absoluta[idx] += 1\n",
    "\n",
    "    return clases, fa_absoluta "
   ]
  },
  {
   "cell_type": "code",
   "execution_count": 69,
   "id": "87bcc3ed-50a3-4347-9573-50c9a68b10fc",
   "metadata": {},
   "outputs": [],
   "source": [
    "def ordenar_asc(arreglo):\n",
    "    '''\n",
    "    Regresa el arreglo ordenado de forma\n",
    "    ascendente.\n",
    "    \n",
    "    Ejemplo:\n",
    "    arreglo = [0, 5, 7, 6, 4, 2]\n",
    "    arr_sorted = ordenar_asc(arreglo)\n",
    "    >>> [0, 2, 4, 5, 6, 7]\n",
    "    '''\n",
    "    arr_len = len(arreglo)\n",
    "\n",
    "    for i in range(arr_len):\n",
    "        min_idx = i\n",
    "        for j in range(i+1, arr_len):\n",
    "            if arreglo[j] < arreglo[min_idx]:\n",
    "                min_idx = j\n",
    "        arreglo[i], arreglo[min_idx] = arreglo[min_idx], arreglo[i]         \n",
    "\n",
    "    return arreglo"
   ]
  },
  {
   "cell_type": "code",
   "execution_count": 70,
   "id": "c7bc3dca-0424-46ff-8f8b-96f5732f927d",
   "metadata": {},
   "outputs": [],
   "source": [
    "def sort_clases_fa(clases_originales, clases_sorted, fa_absolutas):\n",
    "    '''\n",
    "    Regresa lista de frecuencias absolutas ordenadas\n",
    "    \n",
    "    Ejemplo:    \n",
    "    clases_originales = [0, 5, 7, 6, 4, 2]\n",
    "    clases_sorted = [0, 2, 4, 5, 6, 7]\n",
    "    fa_absolutas = [2, 3, 2, 1, 1, 2]\n",
    "    fa_sorted = sort_clases_fa(clases_originales, clases_sorted, fa_absolutas):\n",
    "    >>> [2, 2, 1, 3, 1, 2] \n",
    "    '''\n",
    "\n",
    "    fa_sorted = []\n",
    "    for elemento in clases_sorted:\n",
    "        idx = clases_originales.index(elemento)\n",
    "        fa = fa_absolutas[idx]\n",
    "        fa_sorted.append(fa)\n",
    "\n",
    "    return fa_sorted"
   ]
  },
  {
   "cell_type": "code",
   "execution_count": 71,
   "id": "3d575499-6fc4-40d2-a36b-b713d9e46138",
   "metadata": {},
   "outputs": [
    {
     "name": "stdout",
     "output_type": "stream",
     "text": [
      "[2, 2, 1, 3, 1, 2]\n"
     ]
    }
   ],
   "source": [
    "clases_originales = [0, 5, 7, 6, 4, 2]\n",
    "clases_sorted = [0, 2, 4, 5, 6, 7]\n",
    "fa_absolutas = [2, 3, 2, 1, 1, 2]\n",
    "fa_sorted = sort_clases_fa(clases_originales, clases_sorted, fa_absolutas)\n",
    "print(fa_sorted)"
   ]
  },
  {
   "cell_type": "code",
   "execution_count": 72,
   "id": "8e368d22-fc72-4d23-97bf-1bfb66c208c3",
   "metadata": {},
   "outputs": [
    {
     "name": "stdout",
     "output_type": "stream",
     "text": [
      "[0, 2, 4, 5, 6, 7]\n"
     ]
    }
   ],
   "source": [
    "arreglo = [0, 5, 7, 6, 4, 2]\n",
    "arr_sorted = ordenar_asc(arreglo)\n",
    "print(arr_sorted)"
   ]
  },
  {
   "cell_type": "code",
   "execution_count": 73,
   "id": "08befbb1-089c-45e0-bbf3-99a263e5ff13",
   "metadata": {},
   "outputs": [
    {
     "name": "stdout",
     "output_type": "stream",
     "text": [
      "[0, 1, 2, 3]\n",
      "[2, 3, 1, 2]\n"
     ]
    }
   ],
   "source": [
    "datos_entrada = [0, 1, 2, 0, 1, 3, 1, 3]\n",
    "clases, fa_absoluta = frec_abs(datos_entrada)\n",
    "print(clases)\n",
    "print(fa_absoluta)"
   ]
  },
  {
   "cell_type": "code",
   "execution_count": 74,
   "id": "e64ee263-94c5-4c5c-86c9-761169b5f35f",
   "metadata": {},
   "outputs": [
    {
     "name": "stdout",
     "output_type": "stream",
     "text": [
      "[0, 5, 7, 6, 4, 2]\n",
      "[2, 3, 2, 1, 1, 2]\n"
     ]
    }
   ],
   "source": [
    "datos_entrada = [0, 0, 5, 7, 6, 4, 5, 2, 2, 5, 7]\n",
    "clases, fa_absoluta = frec_abs(datos_entrada)\n",
    "print(clases)\n",
    "print(fa_absoluta)"
   ]
  },
  {
   "cell_type": "code",
   "execution_count": 75,
   "id": "2ecfca40-b015-4ff1-a9b5-48def8051639",
   "metadata": {
    "scrolled": true
   },
   "outputs": [
    {
     "name": "stdout",
     "output_type": "stream",
     "text": [
      "Clases:  [0, 2, 4, 5, 6, 7]\n",
      "Frec. absoluta:  [2, 3, 2, 1, 1, 2]\n"
     ]
    }
   ],
   "source": [
    "datos_entrada = [0, 0, 5, 7, 6, 4, 5, 2, 2, 5, 7]\n",
    "clases, fa_absoluta = frec_abs(datos_entrada)\n",
    "clases_sorted = ordenar_asc(clases)\n",
    "fa_sorted = sort_clases_fa(clases, clases_sorted, fa_absoluta)\n",
    "print('Clases: ', clases_sorted)\n",
    "print('Frec. absoluta: ', fa_sorted)"
   ]
  },
  {
   "cell_type": "markdown",
   "id": "7033599a-c6f5-413f-93d7-67386bff5ce2",
   "metadata": {},
   "source": [
    "# 2da parte del código"
   ]
  },
  {
   "cell_type": "code",
   "execution_count": 76,
   "id": "d2669be0-2cf8-4477-b12a-108d0ecdaef9",
   "metadata": {},
   "outputs": [],
   "source": [
    "def frec_rel(fa_absoluta):\n",
    "  \n",
    "\n",
    "  total_datos = sum(fa_absoluta)\n",
    "  fr = []\n",
    "\n",
    "  for i in range(len(fa_absoluta)):\n",
    "    fr.append((fa_absoluta[i] / total_datos) * 100)\n",
    "\n",
    "  return fr"
   ]
  },
  {
   "cell_type": "code",
   "execution_count": 77,
   "id": "31be71b4-3f1d-4e5a-a986-597c60c7a4e4",
   "metadata": {},
   "outputs": [],
   "source": [
    "def frec_acum(fr_acum):\n",
    "  \n",
    "  fr_acumulada = []\n",
    "  fr_ac = 0\n",
    "\n",
    "  for frecuencia in fr_acum:\n",
    "    fr_ac += frecuencia\n",
    "    fr_acumulada.append(fr_ac)\n",
    "\n",
    "  return fr_acumulada"
   ]
  },
  {
   "cell_type": "code",
   "execution_count": 78,
   "id": "ab3f66c8-a3a5-4569-80b7-ef745deb607a",
   "metadata": {
    "scrolled": true
   },
   "outputs": [
    {
     "name": "stdout",
     "output_type": "stream",
     "text": [
      "|Clases| Fa|   Fr|   Facum|\n",
      "-------|---|------|-------\n",
      "|   0|  2|  8.696|   8.696|\n",
      "|   4|  3| 13.043|  21.739|\n",
      "|   3|  5| 21.739|  43.478|\n",
      "|   5|  7| 30.435|  73.913|\n",
      "|   1|  6| 26.087| 100.000|\n",
      "\n",
      "Tamaño: 23\n"
     ]
    }
   ],
   "source": [
    "datos_entrada = [0, 4, 4, 4, 3, 5, 5, 5, 5, 4, 5, 3, 5, 1, 0, 1, 3, 1, 3, 4, 4, 3, 4]\n",
    "clases, fa_ab = frec_abs(datos_entrada)\n",
    "clases_orden = [0, 4, 3, 5, 1]\n",
    "\n",
    "fa_sorted = sort_clases_fa(clases_orden, ordenar_asc(clases), fa_ab)\n",
    "frecuencia_rel=frec_rel(fa_sorted)\n",
    "frecuencia_rel_acum=frec_acum(frecuencia_rel)\n",
    "\n",
    "print('|Clases| Fa|   Fr|   Facum|')\n",
    "print('-------|---|------|-------')\n",
    "for i, fa in enumerate(fa_sorted):\n",
    "    print(f'|   {clases_orden[i]}| {fa:2}| {frecuencia_rel[i]:6.3f}| {frecuencia_rel_acum[i]:7.3f}|')\n"
   ]
  }
 ],
 "metadata": {
  "kernelspec": {
   "display_name": "Python 3 (ipykernel)",
   "language": "python",
   "name": "python3"
  },
  "language_info": {
   "codemirror_mode": {
    "name": "ipython",
    "version": 3
   },
   "file_extension": ".py",
   "mimetype": "text/x-python",
   "name": "python",
   "nbconvert_exporter": "python",
   "pygments_lexer": "ipython3",
   "version": "3.12.4"
  }
 },
 "nbformat": 4,
 "nbformat_minor": 5
}
