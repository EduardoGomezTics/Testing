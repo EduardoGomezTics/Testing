{
 "cells": [
  {
   "cell_type": "code",
   "execution_count": 2,
   "metadata": {},
   "outputs": [],
   "source": [
    "import CodeBase.Adolfo as A\n",
    "import CodeBase.Diego as D\n",
    "import CodeBase.Eduardo as E\n",
    "import CodeBase.karen as K\n",
    "import CodeBase.Ricardo as R\n",
    "import CodeBase.tabla as T\n"
   ]
  },
  {
   "cell_type": "code",
   "execution_count": 4,
   "metadata": {},
   "outputs": [
    {
     "name": "stdout",
     "output_type": "stream",
     "text": [
      "clases       Fa                Fr                F acumulada      \n",
      "------       -----------       -----------       -----------\n",
      "Clase 0       6                20.0     20.0\n",
      "Clase 1       5                16.666666666666664     36.666666666666664\n",
      "Clase 2       9                30.0     66.66666666666666\n",
      "Clase 4       2                6.666666666666667     73.33333333333333\n",
      "Clase 8       8                26.666666666666668     100.0\n"
     ]
    }
   ],
   "source": [
    "\n",
    "\n",
    "\n",
    "\n",
    "datos_entrada = [0, 0, 0, 1, 1, 4, 2 , 2, 0, 0, 2, 4, 8, 8, 8, 8, 8, 8, 2, 2, 2, 2, 2, 1, 1, 0, 1, 2, 8, 8]\n",
    "\n",
    "clases, fa_ab = R.frec_abs(datos_entrada)\n",
    "\n",
    "clases_orden = clases.copy()\n",
    "\n",
    "fa_sorted = A.sort_clases_fa(clases_orden, E.ordenar_asc(clases), fa_ab)\n",
    "\n",
    "frecuencia_rel=K.frec_rel(fa_sorted)\n",
    "\n",
    "frecuencia_rel_acum=D.frec_acum(frecuencia_rel)\n",
    "\n",
    "T.tabla(clases,fa_sorted,frecuencia_rel, frecuencia_rel_acum) \n",
    " "
   ]
  },
  {
   "cell_type": "code",
   "execution_count": null,
   "metadata": {},
   "outputs": [],
   "source": []
  }
 ],
 "metadata": {
  "kernelspec": {
   "display_name": "Python 3",
   "language": "python",
   "name": "python3"
  },
  "language_info": {
   "codemirror_mode": {
    "name": "ipython",
    "version": 3
   },
   "file_extension": ".py",
   "mimetype": "text/x-python",
   "name": "python",
   "nbconvert_exporter": "python",
   "pygments_lexer": "ipython3",
   "version": "3.12.4"
  }
 },
 "nbformat": 4,
 "nbformat_minor": 2
}
