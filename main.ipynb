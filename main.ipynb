{
 "cells": [
  {
   "cell_type": "code",
   "execution_count": null,
   "metadata": {},
   "outputs": [],
   "source": [
    "datos_entrada = [3, 4, 4, 4, 3, 5, 5, 5, 5, 4, 5, 3, 5, 1, 0, 1, 3, 1, 3, 4, 4, 3, 4, 8, 12, 8, 12, 6, 9, 4, 2]\n",
    "\n",
    "clases, fa_ab = frec_abs(datos_entrada)\n",
    "\n",
    "clases_orden = clases.copy()\n",
    "\n",
    "fa_sorted = sort_clases_fa(clases_orden, ordenar_asc(clases), fa_ab)\n",
    "\n",
    "frecuencia_rel=frec_rel(fa_sorted)\n",
    "\n",
    "frecuencia_rel_acum=frec_acum(frecuencia_rel)\n",
    "\n",
    "olapilin(clases,fa_sorted,frecuencia_rel, frecuencia_rel_acum) \n",
    " "
   ]
  }
 ],
 "metadata": {
  "language_info": {
   "name": "python"
  }
 },
 "nbformat": 4,
 "nbformat_minor": 2
}
